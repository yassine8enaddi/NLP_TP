{
  "nbformat": 4,
  "nbformat_minor": 0,
  "metadata": {
    "colab": {
      "provenance": [],
      "authorship_tag": "ABX9TyOfpPTkARUka69hjoPG6zMF",
      "include_colab_link": true
    },
    "kernelspec": {
      "name": "python3",
      "display_name": "Python 3"
    },
    "language_info": {
      "name": "python"
    }
  },
  "cells": [
    {
      "cell_type": "markdown",
      "metadata": {
        "id": "view-in-github",
        "colab_type": "text"
      },
      "source": [
        "<a href=\"https://colab.research.google.com/github/yassine8enaddi/NLP_TP/blob/main/TP2.ipynb\" target=\"_parent\"><img src=\"https://colab.research.google.com/assets/colab-badge.svg\" alt=\"Open In Colab\"/></a>"
      ]
    },
    {
      "cell_type": "markdown",
      "source": [
        "les modèles nécessaires"
      ],
      "metadata": {
        "id": "Z6bRLR7CT9zg"
      }
    },
    {
      "cell_type": "code",
      "source": [
        "import gensim\n",
        "from gensim.utils import simple_preprocess\n",
        "from gensim.models import Word2Vec\n",
        "from nltk.tokenize import word_tokenize, sent_tokenize\n",
        "import nltk\n",
        "nltk.download('punkt')"
      ],
      "metadata": {
        "colab": {
          "base_uri": "https://localhost:8080/"
        },
        "id": "78oz6mJkUB2P",
        "outputId": "8587c76b-b4b5-4bbe-fdde-5ba6ae09b4f9"
      },
      "execution_count": 34,
      "outputs": [
        {
          "output_type": "stream",
          "name": "stderr",
          "text": [
            "[nltk_data] Downloading package punkt to /root/nltk_data...\n",
            "[nltk_data]   Unzipping tokenizers/punkt.zip.\n"
          ]
        },
        {
          "output_type": "execute_result",
          "data": {
            "text/plain": [
              "True"
            ]
          },
          "metadata": {},
          "execution_count": 34
        }
      ]
    },
    {
      "cell_type": "code",
      "source": [
        "with open('text.txt', 'r', encoding='utf-8') as file:\n",
        "    text = file.read()"
      ],
      "metadata": {
        "id": "9eEYAOX-VAwC"
      },
      "execution_count": 9,
      "outputs": []
    },
    {
      "cell_type": "code",
      "source": [
        "text"
      ],
      "metadata": {
        "colab": {
          "base_uri": "https://localhost:8080/",
          "height": 159
        },
        "id": "L6yXfS9EVFPv",
        "outputId": "c376a271-eab4-4cf9-c865-71ce53578a5f"
      },
      "execution_count": 25,
      "outputs": [
        {
          "output_type": "execute_result",
          "data": {
            "text/plain": [
              "'**Morocco and Marrakech: A Tapestry of Tradition and Modernity** Morocco, located at the crossroads of Europe and Africa, is a country drenched in history, mystery, and cultural richness. A testament to the ancient civilizations that once flourished here, this North African kingdom boasts a unique blend of Arab, Berber, and European influences. At the heart of Morocco\\'s rich tapestry lies Marrakech, one of its four imperial cities and a vibrant epicenter of tradition and modernity. **Geographical Significance** Morocco is bordered by the Atlantic Ocean to the west, the Mediterranean Sea to the north, Algeria to the east and southeast, and the vast Sahara desert to the south. Its strategic location has historically made it a sought-after territory and a melting pot of cultures, religions, and trade routes. **Marrakech: The Red City** Marrakech, often referred to as \"The Red City\" due to its distinctive red-hued buildings, stands against the backdrop of the snow-capped Atlas Mountains. Established in the 11th century, it has remained a crucial political, economic, and cultural center of Morocco. **Journey through the Medina** Marrakech\\'s old town, the Medina, is a UNESCO World Heritage site and a labyrinthine maze of narrow alleys, bustling souks, and historical landmarks. The Djemaa el-Fna Square lies at the heart of the Medina and comes alive every evening with storytellers, musicians, snake charmers, and food stalls offering tantalizing Moroccan delicacies. **Palaces and Gardens** The city is also home to grand palaces like the Bahia Palace, showcasing intricate Islamic architecture, and the Saadian Tombs, remnants of the Saadian dynasty. The Majorelle Garden, restored by the fashion designer Yves Saint Laurent, is a tranquil oasis of cacti, palm trees, and cobalt blue accents. **Modern Marrakech** While tradition and history permeate Marrakech, the city is not averse to the modern world. Gueliz, the new town, is brimming with contemporary art galleries, stylish cafes, and chic boutiques, offering a stark contrast to the ancient Medina. **Moroccan Cuisine** No journey through Morocco and Marrakech would be complete without indulging in the local cuisine. Tagines, couscous, and pastilla are just a few of the many dishes that combine a plethora of flavors and spices like saffron, cumin, and mint. Paired with Moroccan mint tea, the culinary experience is truly unparalleled. **In Conclusion** Morocco, with Marrakech at its heart, offers travelers an unparalleled journey through time. The convergence of history, culture, architecture, and gastronomy makes it an enthralling destination for those seeking both adventure and reflection. As the Moroccan proverb goes, \"He who does not travel does not know the value of men.\" In the case of Morocco and Marrakech, it\\'s not just the value of men, but also the value of time, tradition, and tales that have spanned centuries.'"
            ],
            "application/vnd.google.colaboratory.intrinsic+json": {
              "type": "string"
            }
          },
          "metadata": {},
          "execution_count": 25
        }
      ]
    },
    {
      "cell_type": "markdown",
      "source": [
        "Tokenization des phrases"
      ],
      "metadata": {
        "id": "62An_BpobU_a"
      }
    },
    {
      "cell_type": "code",
      "source": [
        "sentences = sent_tokenize(text)"
      ],
      "metadata": {
        "id": "TzKHfHtyadLl"
      },
      "execution_count": 35,
      "outputs": []
    },
    {
      "cell_type": "markdown",
      "source": [
        "Tokenization des mots et nettoyage"
      ],
      "metadata": {
        "id": "Vt67YfR2WGK2"
      }
    },
    {
      "cell_type": "code",
      "source": [
        "word_tokens = [simple_preprocess(sentence) for sentence in sentences]\n",
        "word_tokens"
      ],
      "metadata": {
        "colab": {
          "base_uri": "https://localhost:8080/"
        },
        "id": "uQ_yIDT2WDnC",
        "outputId": "67e16e4f-cca5-4366-9a5d-cf8200e14f5d"
      },
      "execution_count": 37,
      "outputs": [
        {
          "output_type": "execute_result",
          "data": {
            "text/plain": [
              "[['morocco',\n",
              "  'and',\n",
              "  'marrakech',\n",
              "  'tapestry',\n",
              "  'of',\n",
              "  'tradition',\n",
              "  'and',\n",
              "  'modernity',\n",
              "  'morocco',\n",
              "  'located',\n",
              "  'at',\n",
              "  'the',\n",
              "  'crossroads',\n",
              "  'of',\n",
              "  'europe',\n",
              "  'and',\n",
              "  'africa',\n",
              "  'is',\n",
              "  'country',\n",
              "  'drenched',\n",
              "  'in',\n",
              "  'history',\n",
              "  'mystery',\n",
              "  'and',\n",
              "  'cultural',\n",
              "  'richness'],\n",
              " ['testament',\n",
              "  'to',\n",
              "  'the',\n",
              "  'ancient',\n",
              "  'civilizations',\n",
              "  'that',\n",
              "  'once',\n",
              "  'flourished',\n",
              "  'here',\n",
              "  'this',\n",
              "  'north',\n",
              "  'african',\n",
              "  'kingdom',\n",
              "  'boasts',\n",
              "  'unique',\n",
              "  'blend',\n",
              "  'of',\n",
              "  'arab',\n",
              "  'berber',\n",
              "  'and',\n",
              "  'european',\n",
              "  'influences'],\n",
              " ['at',\n",
              "  'the',\n",
              "  'heart',\n",
              "  'of',\n",
              "  'morocco',\n",
              "  'rich',\n",
              "  'tapestry',\n",
              "  'lies',\n",
              "  'marrakech',\n",
              "  'one',\n",
              "  'of',\n",
              "  'its',\n",
              "  'four',\n",
              "  'imperial',\n",
              "  'cities',\n",
              "  'and',\n",
              "  'vibrant',\n",
              "  'epicenter',\n",
              "  'of',\n",
              "  'tradition',\n",
              "  'and',\n",
              "  'modernity'],\n",
              " ['geographical',\n",
              "  'significance',\n",
              "  'morocco',\n",
              "  'is',\n",
              "  'bordered',\n",
              "  'by',\n",
              "  'the',\n",
              "  'atlantic',\n",
              "  'ocean',\n",
              "  'to',\n",
              "  'the',\n",
              "  'west',\n",
              "  'the',\n",
              "  'mediterranean',\n",
              "  'sea',\n",
              "  'to',\n",
              "  'the',\n",
              "  'north',\n",
              "  'algeria',\n",
              "  'to',\n",
              "  'the',\n",
              "  'east',\n",
              "  'and',\n",
              "  'southeast',\n",
              "  'and',\n",
              "  'the',\n",
              "  'vast',\n",
              "  'sahara',\n",
              "  'desert',\n",
              "  'to',\n",
              "  'the',\n",
              "  'south'],\n",
              " ['its',\n",
              "  'strategic',\n",
              "  'location',\n",
              "  'has',\n",
              "  'historically',\n",
              "  'made',\n",
              "  'it',\n",
              "  'sought',\n",
              "  'after',\n",
              "  'territory',\n",
              "  'and',\n",
              "  'melting',\n",
              "  'pot',\n",
              "  'of',\n",
              "  'cultures',\n",
              "  'religions',\n",
              "  'and',\n",
              "  'trade',\n",
              "  'routes'],\n",
              " ['marrakech',\n",
              "  'the',\n",
              "  'red',\n",
              "  'city',\n",
              "  'marrakech',\n",
              "  'often',\n",
              "  'referred',\n",
              "  'to',\n",
              "  'as',\n",
              "  'the',\n",
              "  'red',\n",
              "  'city',\n",
              "  'due',\n",
              "  'to',\n",
              "  'its',\n",
              "  'distinctive',\n",
              "  'red',\n",
              "  'hued',\n",
              "  'buildings',\n",
              "  'stands',\n",
              "  'against',\n",
              "  'the',\n",
              "  'backdrop',\n",
              "  'of',\n",
              "  'the',\n",
              "  'snow',\n",
              "  'capped',\n",
              "  'atlas',\n",
              "  'mountains'],\n",
              " ['established',\n",
              "  'in',\n",
              "  'the',\n",
              "  'th',\n",
              "  'century',\n",
              "  'it',\n",
              "  'has',\n",
              "  'remained',\n",
              "  'crucial',\n",
              "  'political',\n",
              "  'economic',\n",
              "  'and',\n",
              "  'cultural',\n",
              "  'center',\n",
              "  'of',\n",
              "  'morocco'],\n",
              " ['journey',\n",
              "  'through',\n",
              "  'the',\n",
              "  'medina',\n",
              "  'marrakech',\n",
              "  'old',\n",
              "  'town',\n",
              "  'the',\n",
              "  'medina',\n",
              "  'is',\n",
              "  'unesco',\n",
              "  'world',\n",
              "  'heritage',\n",
              "  'site',\n",
              "  'and',\n",
              "  'labyrinthine',\n",
              "  'maze',\n",
              "  'of',\n",
              "  'narrow',\n",
              "  'alleys',\n",
              "  'bustling',\n",
              "  'souks',\n",
              "  'and',\n",
              "  'historical',\n",
              "  'landmarks'],\n",
              " ['the',\n",
              "  'djemaa',\n",
              "  'el',\n",
              "  'fna',\n",
              "  'square',\n",
              "  'lies',\n",
              "  'at',\n",
              "  'the',\n",
              "  'heart',\n",
              "  'of',\n",
              "  'the',\n",
              "  'medina',\n",
              "  'and',\n",
              "  'comes',\n",
              "  'alive',\n",
              "  'every',\n",
              "  'evening',\n",
              "  'with',\n",
              "  'storytellers',\n",
              "  'musicians',\n",
              "  'snake',\n",
              "  'charmers',\n",
              "  'and',\n",
              "  'food',\n",
              "  'stalls',\n",
              "  'offering',\n",
              "  'tantalizing',\n",
              "  'moroccan',\n",
              "  'delicacies'],\n",
              " ['palaces',\n",
              "  'and',\n",
              "  'gardens',\n",
              "  'the',\n",
              "  'city',\n",
              "  'is',\n",
              "  'also',\n",
              "  'home',\n",
              "  'to',\n",
              "  'grand',\n",
              "  'palaces',\n",
              "  'like',\n",
              "  'the',\n",
              "  'bahia',\n",
              "  'palace',\n",
              "  'showcasing',\n",
              "  'intricate',\n",
              "  'islamic',\n",
              "  'architecture',\n",
              "  'and',\n",
              "  'the',\n",
              "  'saadian',\n",
              "  'tombs',\n",
              "  'remnants',\n",
              "  'of',\n",
              "  'the',\n",
              "  'saadian',\n",
              "  'dynasty'],\n",
              " ['the',\n",
              "  'majorelle',\n",
              "  'garden',\n",
              "  'restored',\n",
              "  'by',\n",
              "  'the',\n",
              "  'fashion',\n",
              "  'designer',\n",
              "  'yves',\n",
              "  'saint',\n",
              "  'laurent',\n",
              "  'is',\n",
              "  'tranquil',\n",
              "  'oasis',\n",
              "  'of',\n",
              "  'cacti',\n",
              "  'palm',\n",
              "  'trees',\n",
              "  'and',\n",
              "  'cobalt',\n",
              "  'blue',\n",
              "  'accents'],\n",
              " ['modern',\n",
              "  'marrakech',\n",
              "  'while',\n",
              "  'tradition',\n",
              "  'and',\n",
              "  'history',\n",
              "  'permeate',\n",
              "  'marrakech',\n",
              "  'the',\n",
              "  'city',\n",
              "  'is',\n",
              "  'not',\n",
              "  'averse',\n",
              "  'to',\n",
              "  'the',\n",
              "  'modern',\n",
              "  'world'],\n",
              " ['gueliz',\n",
              "  'the',\n",
              "  'new',\n",
              "  'town',\n",
              "  'is',\n",
              "  'brimming',\n",
              "  'with',\n",
              "  'contemporary',\n",
              "  'art',\n",
              "  'galleries',\n",
              "  'stylish',\n",
              "  'cafes',\n",
              "  'and',\n",
              "  'chic',\n",
              "  'boutiques',\n",
              "  'offering',\n",
              "  'stark',\n",
              "  'contrast',\n",
              "  'to',\n",
              "  'the',\n",
              "  'ancient',\n",
              "  'medina'],\n",
              " ['moroccan',\n",
              "  'cuisine',\n",
              "  'no',\n",
              "  'journey',\n",
              "  'through',\n",
              "  'morocco',\n",
              "  'and',\n",
              "  'marrakech',\n",
              "  'would',\n",
              "  'be',\n",
              "  'complete',\n",
              "  'without',\n",
              "  'indulging',\n",
              "  'in',\n",
              "  'the',\n",
              "  'local',\n",
              "  'cuisine'],\n",
              " ['tagines',\n",
              "  'couscous',\n",
              "  'and',\n",
              "  'pastilla',\n",
              "  'are',\n",
              "  'just',\n",
              "  'few',\n",
              "  'of',\n",
              "  'the',\n",
              "  'many',\n",
              "  'dishes',\n",
              "  'that',\n",
              "  'combine',\n",
              "  'plethora',\n",
              "  'of',\n",
              "  'flavors',\n",
              "  'and',\n",
              "  'spices',\n",
              "  'like',\n",
              "  'saffron',\n",
              "  'cumin',\n",
              "  'and',\n",
              "  'mint'],\n",
              " ['paired',\n",
              "  'with',\n",
              "  'moroccan',\n",
              "  'mint',\n",
              "  'tea',\n",
              "  'the',\n",
              "  'culinary',\n",
              "  'experience',\n",
              "  'is',\n",
              "  'truly',\n",
              "  'unparalleled'],\n",
              " ['in',\n",
              "  'conclusion',\n",
              "  'morocco',\n",
              "  'with',\n",
              "  'marrakech',\n",
              "  'at',\n",
              "  'its',\n",
              "  'heart',\n",
              "  'offers',\n",
              "  'travelers',\n",
              "  'an',\n",
              "  'unparalleled',\n",
              "  'journey',\n",
              "  'through',\n",
              "  'time'],\n",
              " ['the',\n",
              "  'convergence',\n",
              "  'of',\n",
              "  'history',\n",
              "  'culture',\n",
              "  'architecture',\n",
              "  'and',\n",
              "  'gastronomy',\n",
              "  'makes',\n",
              "  'it',\n",
              "  'an',\n",
              "  'enthralling',\n",
              "  'destination',\n",
              "  'for',\n",
              "  'those',\n",
              "  'seeking',\n",
              "  'both',\n",
              "  'adventure',\n",
              "  'and',\n",
              "  'reflection'],\n",
              " ['as',\n",
              "  'the',\n",
              "  'moroccan',\n",
              "  'proverb',\n",
              "  'goes',\n",
              "  'he',\n",
              "  'who',\n",
              "  'does',\n",
              "  'not',\n",
              "  'travel',\n",
              "  'does',\n",
              "  'not',\n",
              "  'know',\n",
              "  'the',\n",
              "  'value',\n",
              "  'of',\n",
              "  'men'],\n",
              " ['in',\n",
              "  'the',\n",
              "  'case',\n",
              "  'of',\n",
              "  'morocco',\n",
              "  'and',\n",
              "  'marrakech',\n",
              "  'it',\n",
              "  'not',\n",
              "  'just',\n",
              "  'the',\n",
              "  'value',\n",
              "  'of',\n",
              "  'men',\n",
              "  'but',\n",
              "  'also',\n",
              "  'the',\n",
              "  'value',\n",
              "  'of',\n",
              "  'time',\n",
              "  'tradition',\n",
              "  'and',\n",
              "  'tales',\n",
              "  'that',\n",
              "  'have',\n",
              "  'spanned',\n",
              "  'centuries']]"
            ]
          },
          "metadata": {},
          "execution_count": 37
        }
      ]
    },
    {
      "cell_type": "markdown",
      "source": [
        "Entraînement du modèle word2vec"
      ],
      "metadata": {
        "id": "UW7yoSgmX1G5"
      }
    },
    {
      "cell_type": "code",
      "source": [
        "model = Word2Vec(word_tokens, vector_size=100, window=5, min_count=1, workers=4)"
      ],
      "metadata": {
        "id": "MbFAUnB1X5M6"
      },
      "execution_count": 38,
      "outputs": []
    },
    {
      "cell_type": "markdown",
      "source": [
        "Fonction pour extraire la représentation vectorielle d'un mot"
      ],
      "metadata": {
        "id": "ZWjWjixuYPLj"
      }
    },
    {
      "cell_type": "code",
      "source": [
        "def get_word_vector(word):\n",
        "    return model.wv[word]"
      ],
      "metadata": {
        "id": "O_KdjzgWYQ63"
      },
      "execution_count": 28,
      "outputs": []
    },
    {
      "cell_type": "markdown",
      "source": [
        "Fonction pour calculer la similarité entre deux mots"
      ],
      "metadata": {
        "id": "BP8617fGYTpS"
      }
    },
    {
      "cell_type": "code",
      "source": [
        "def word_similarity(word1, word2):\n",
        "    return model.wv.similarity(word1, word2)"
      ],
      "metadata": {
        "id": "_jt2P2ktYT7p"
      },
      "execution_count": 29,
      "outputs": []
    },
    {
      "cell_type": "markdown",
      "source": [
        "Fonction pour extraire les mots contextuels (les plus similaires) pour un mot central donné"
      ],
      "metadata": {
        "id": "-UFC6ifJYUeg"
      }
    },
    {
      "cell_type": "code",
      "source": [
        "def similar_words(word, topn=5):\n",
        "    return model.wv.most_similar(word, topn=topn)"
      ],
      "metadata": {
        "id": "KeFrJHrrYUst"
      },
      "execution_count": 30,
      "outputs": []
    },
    {
      "cell_type": "markdown",
      "source": [
        "Exemples d'utilisation\n"
      ],
      "metadata": {
        "id": "C8BtFqB4Ymgj"
      }
    },
    {
      "cell_type": "code",
      "source": [
        "word = \"morocco\"\n",
        "print(f\"Représentation vectorielle de '{word}': {get_word_vector(word)}\")\n",
        "\n",
        "word1 = \"morocco\"\n",
        "word2 = \"marrakech\"\n",
        "print(f\"Similarité entre '{word1}' et '{word2}': {word_similarity(word1, word2)}\")\n",
        "\n",
        "central_word = \"medina\"\n",
        "print(f\"Mots contextuels pour '{central_word}': {similar_words(central_word)}\")"
      ],
      "metadata": {
        "colab": {
          "base_uri": "https://localhost:8080/"
        },
        "id": "_NP0k0nWYkrq",
        "outputId": "1a19e982-76a1-4d13-e0d9-90964595d56c"
      },
      "execution_count": 39,
      "outputs": [
        {
          "output_type": "stream",
          "name": "stdout",
          "text": [
            "Représentation vectorielle de 'morocco': [-0.00871802  0.00227369 -0.00088844 -0.00927329 -0.00935401 -0.00158464\n",
            "  0.00455244  0.0039298  -0.00665695 -0.00700031 -0.00498542 -0.00240911\n",
            " -0.00731339 -0.00957813 -0.00283124 -0.00847685 -0.00601393 -0.00582015\n",
            " -0.0024868  -0.00203995 -0.00900119 -0.00066579  0.00827171  0.00769807\n",
            " -0.00720841 -0.00366756  0.00310604 -0.00955532  0.00134168  0.00658452\n",
            "  0.00578665 -0.00872704 -0.00439983 -0.00819689 -0.00012706  0.00943676\n",
            "  0.00596009  0.00495392  0.00500744 -0.00341126  0.00951485 -0.00740884\n",
            " -0.00728124 -0.00232218 -0.00059365 -0.00316152 -0.00060992  0.00744103\n",
            " -0.00061225 -0.00149468  0.00275229 -0.00839286  0.00787604  0.00848195\n",
            " -0.00964137  0.00247221  0.00988957 -0.00768447 -0.00710495 -0.00764236\n",
            "  0.00843769 -0.00073248  0.00914282 -0.00826117  0.00358104  0.00267892\n",
            "  0.00080407  0.00239136 -0.00765618 -0.00928106  0.00227011  0.00619778\n",
            "  0.00801696  0.00562051 -0.00062833  0.00836791 -0.00921466  0.00335189\n",
            "  0.00017741  0.00392593  0.00737657 -0.00666644  0.00549553 -0.00941336\n",
            " -0.00087259 -0.00867893 -0.00500513  0.00946132 -0.00172664  0.00285348\n",
            "  0.00915218  0.0090494  -0.00812251 -0.00290958  0.01005353  0.00524475\n",
            " -0.00151755 -0.00878805  0.00302032 -0.00661394]\n",
            "Similarité entre 'morocco' et 'marrakech': 0.13808107376098633\n",
            "Mots contextuels pour 'medina': [('to', 0.25382325053215027), ('atlas', 0.2270260900259018), ('snow', 0.20824770629405975), ('dishes', 0.1985204964876175), ('blend', 0.18099163472652435)]\n"
          ]
        }
      ]
    }
  ]
}